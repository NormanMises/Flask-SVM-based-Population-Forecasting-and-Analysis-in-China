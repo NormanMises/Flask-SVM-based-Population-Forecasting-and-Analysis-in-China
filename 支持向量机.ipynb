{
 "cells": [
  {
   "cell_type": "code",
   "execution_count": 14,
   "metadata": {},
   "outputs": [],
   "source": [
    "from sklearn import datasets  \r\n",
    "from sklearn.model_selection import train_test_split  \r\n",
    "from sklearn import svm  \r\n",
    "from sklearn.preprocessing import StandardScaler\r\n",
    "from sklearn.metrics import mean_squared_error, r2_score  \r\n",
    "import pandas as pd\r\n",
    "import numpy as np"
   ]
  },
  {
   "cell_type": "code",
   "execution_count": 24,
   "metadata": {},
   "outputs": [],
   "source": [
    "df=pd.read_csv('人口.csv',encoding='gbk')\r\n",
    "X=df.filter(regex='[^自然增长率(%)]')[:-1]\r\n",
    "y=np.array(df['自然增长率(%)'][1:])#明年自然增长率\r\n",
    "scaler = StandardScaler()  \r\n",
    "\r\n"
   ]
  },
  {
   "cell_type": "code",
   "execution_count": 29,
   "metadata": {},
   "outputs": [
    {
     "data": {
      "text/plain": "array([[-1.69774938,  2.31231635, -1.98778923, -0.67360782,  0.28065341,\n        -1.72963591, -1.15697989,  1.16218409, -1.07953007],\n       [-1.62845348,  1.83270783, -1.85787421, -0.67193038,  0.18148259,\n        -1.65933538, -1.16554757,  1.17076574, -1.1556617 ],\n       [-1.55915759,  1.82969143, -1.74474303, -0.66756903,  0.13189719,\n        -1.63775415, -1.17482923,  1.18006252, -1.16630838],\n       [-1.4898617 ,  1.51900163, -1.62661735, -0.65884632,  0.231068  ,\n        -1.58619182, -1.16983142,  1.17505656, -1.25238214],\n       [-1.4205658 ,  0.85237595, -1.53090883, -0.65783985,  0.25586071,\n        -1.53986326, -1.17268731,  1.17791711, -1.32303386],\n       [-1.35126991,  0.47834163, -1.44025289, -0.65180105,  0.45420234,\n        -1.48823631, -1.15983579,  1.16504464, -1.2734798 ],\n       [-1.28197402, -0.28480903, -1.36492889, -0.65616241,  0.59056221,\n        -1.44520308, -1.15269605,  1.15717813, -1.30714211],\n       [-1.21267813, -0.48389182, -1.27740903, -0.64945263,  0.61535491,\n        -1.41011743, -1.14484234,  1.15002675, -1.36597288],\n       [-1.14338223, -0.63471211, -1.19697438, -0.65918181,  0.60295856,\n        -1.36004123, -1.11842532,  1.12356667, -1.42582134],\n       [-1.07408634, -0.68900741, -1.11665589, -0.65012361,  0.40461693,\n        -1.30369742, -1.04417207,  1.04919238, -1.4574874 ],\n       [-1.00479045, -0.50500666, -1.04911402, -0.64643323,  0.37982422,\n        -1.2173079 , -1.0134712 ,  1.01844147, -1.4441399 ],\n       [-0.93549455,  0.36371821, -0.96972473, -0.64542677,  0.5409768 ,\n        -1.12917378, -0.95849524,  0.96337589, -1.37571929],\n       [-0.86619866,  0.86444157, -0.8778492 , -0.64341383,  0.64014762,\n        -1.02772909, -0.8892398 ,  0.89400756, -1.30232762],\n       [-0.79690277,  0.32752134, -0.7992149 , -0.63603308,  1.1607944 ,\n        -0.95400399, -0.86139483,  0.85896583, -1.26980043],\n       [-0.72760688,  0.32148853, -0.72087097, -0.62764586,  1.1607944 ,\n        -0.84021794, -0.75501277,  0.75956173, -1.13229379],\n       [-0.65831098,  0.76188377, -0.63410609, -0.61288435,  1.69383754,\n        -0.73192411, -0.70503462,  0.70950212, -0.89364364],\n       [-0.58901509,  1.29880401, -0.53793297, -0.61724571,  1.69383754,\n        -0.64088235, -0.64720276,  0.65157599, -0.69163061],\n       [-0.5197192 ,  1.70300238, -0.4338035 , -0.62731037,  0.64014762,\n        -0.54389605, -0.59008488,  0.59436499, -0.58622059],\n       [-0.4504233 ,  1.51296882, -0.33356509, -0.61657473,  0.73931843,\n        -0.44367903, -0.55510017,  0.55932326, -0.58622059],\n       [-0.38112741,  1.36516493, -0.2361143 , -0.60751653,  0.90047101,\n        -0.37938765, -0.59793859,  0.53071777, -0.5690763 ],\n       [-0.31183152,  1.29880401, -0.14150922, -0.60516811,  0.73931843,\n         0.22928052, -0.58365911,  0.51641502, -0.17064758],\n       [-0.24253563,  0.92476969, -0.05497664, -0.59980029, -0.19040797,\n         0.27722444, -0.47442116,  0.47851274,  0.04028988],\n       [-0.17323973,  0.51152209,  0.02330921, -0.58872916, -1.73995197,\n         0.3199346 , -0.43729453,  0.44132559,  0.11552123],\n       [-0.10394384,  0.53263693,  0.1014789 , -0.58503878, -1.85151913,\n         0.36232168, -0.39945393,  0.40342331,  0.21220253],\n       [-0.03464795,  0.46627601,  0.17889362, -0.55283186, -1.44243952,\n         0.40412723, -0.36232731,  0.36623616,  1.33041765],\n       [ 0.03464795,  0.32752134,  0.25270765, -0.50720538, -1.81433008,\n         0.44354205, -0.32448671,  0.32761874,  1.22551648],\n       [ 0.10394384,  0.34260337,  0.32634746, -0.4736565 , -2.8928127 ,\n         0.50072584, -0.22167451,  0.2253541 ,  1.21122957],\n       [ 0.17323973,  0.2551276 ,  0.39818692, -0.44950131, -1.6283848 ,\n         0.55694042, -0.11957629,  0.12308945,  1.20167886],\n       [ 0.24253563, -0.02841454,  0.46410268, -0.43373334, -0.67386569,\n         0.60326898, -0.0167641 ,  0.01295829,  1.19749065],\n       [ 0.31183152, -0.35116996,  0.52363012, -0.41863634,  0.26825706,\n         0.65864357,  0.08533412, -0.08215498,  1.19768636],\n       [ 0.38112741, -0.53818712,  0.57920843, -0.3897843 ,  1.32194698,\n         0.70329216,  0.18814632, -0.18513477,  1.19721665],\n       [ 0.4504233 , -0.74631912,  0.63054722, -0.35824836,  0.40461693,\n         0.74929765,  0.29095851, -0.28811455,  1.19666866],\n       [ 0.5197192 , -0.91222144,  0.67851763, -0.32637692,  0.47899504,\n         0.78050643,  0.39305673, -0.3903792 ,  1.19666866],\n       [ 0.58901509, -1.05399251,  0.72346811, -0.27940849,  0.65254397,\n         0.80997062,  0.49586892, -0.49335899,  1.19682523],\n       [ 0.65831098, -1.07209095,  0.76766361, -0.20560095,  0.76411114,\n         0.84408705,  0.58368767, -0.58132089,  1.19706008],\n       [ 0.72760688, -0.99969721,  0.81226564, -0.1234062 ,  0.77650749,\n         0.86237294,  0.67150642, -0.66928279,  1.12789577],\n       [ 0.79690277, -1.09320579,  0.85245392, -0.00732708,  0.76411114,\n         0.89022177,  0.76789285, -0.77297771,  1.01336562],\n       [ 0.86619866, -1.06304173,  0.89200337,  0.19195327,  0.64014762,\n         0.91238453,  0.87855876, -0.87667263,  0.84838113],\n       [ 0.93549455, -1.02382845,  0.93108822,  0.45195709,  0.49139139,\n         0.92808584,  0.95709585, -0.95533775,  0.63810909],\n       [ 1.00479045, -1.07510735,  0.96872118,  0.57407501,  0.31784246,\n         0.94514406,  1.05348228, -1.0518813 ,  0.6224522 ],\n       [ 1.07408634, -1.07209095,  1.00594762,  0.81495596, -0.57469488,\n         0.96304226,  1.16843203, -1.16701842,  0.54886482],\n       [ 1.14338223, -1.03589408,  1.04334827,  1.173258  , -0.61188393,\n         0.98339582,  1.26267654, -1.26141655,  0.54416775],\n       [ 1.21267813, -0.93031987,  1.08220082,  1.40742918, -0.67386569,\n         1.00174632,  1.3554931 , -1.35438442,  0.40325574],\n       [ 1.28197402, -0.91523785,  1.12099529,  1.65367795, -0.71105475,\n         1.01938607,  1.43831404, -1.43734035,  0.33279973],\n       [ 1.35126991, -0.77346677,  1.16222894,  1.86436492, -0.76064016,\n         1.03721966,  1.51256729, -1.51171464,  0.32497129],\n       [ 1.4205658 , -0.86999176,  1.20172032,  1.99453457, -0.81022557,\n         1.05001332,  1.60752577, -1.60682792,  0.38368463],\n       [ 1.4898617 , -0.4748426 ,  1.24870344,  2.02170916, -0.85981097,\n         1.05983472,  1.69677247, -1.69622009,  0.52459664],\n       [ 1.55915759, -0.66487616,  1.29150513,  2.26728696, -1.07054896,\n         1.06222545,  1.78030738, -1.77989117,  0.5011113 ],\n       [ 1.62845348, -1.26815732,  1.32228517,  2.63531817, -1.28128694,\n         1.05873627,  1.85598858, -1.85569573,  0.64202332],\n       [ 1.69774938, -1.44310886,  1.34940646,  2.73093248, -1.33087235,\n         1.05130561,  1.92881388, -1.92863975,  0.65638851]])"
     },
     "execution_count": 29,
     "metadata": {},
     "output_type": "execute_result"
    }
   ],
   "source": [
    "name=df.columns\r\n",
    "df_scaler=scaler.fit_transform(df)\r\n",
    "name,\r\n",
    "X_scaled = df_scaler[:,:-1]\r\n",
    "X_scaled"
   ]
  },
  {
   "cell_type": "code",
   "execution_count": null,
   "metadata": {},
   "outputs": [],
   "source": []
  },
  {
   "cell_type": "code",
   "execution_count": null,
   "metadata": {},
   "outputs": [],
   "source": []
  },
  {
   "cell_type": "code",
   "execution_count": 17,
   "metadata": {},
   "outputs": [],
   "source": [
    "\r\n",
    "X_scaled = scaler.fit_transform(X) \r\n",
    "\r\n",
    "#X_train, X_test, y_train, y_test = train_test_split(X_scaled, y, test_size=0.2, random_state=42)\r\n",
    "train=[i for i in range(40)]\r\n",
    "test=[i for i in range(40,49)]\r\n",
    "X_train, X_test, y_train, y_test=X_scaled[train],X_scaled[test],y[train],y[test]\r\n"
   ]
  },
  {
   "cell_type": "code",
   "execution_count": 18,
   "metadata": {},
   "outputs": [
    {
     "data": {
      "text/plain": "array([-1.72963591, -1.65933538, -1.63775415, -1.58619182, -1.53986326,\n       -1.48823631, -1.44520308, -1.41011743, -1.36004123, -1.30369742,\n       -1.2173079 , -1.12917378, -1.02772909, -0.95400399, -0.84021794,\n       -0.73192411, -0.64088235, -0.54389605, -0.44367903, -0.37938765,\n        0.22928052,  0.27722444,  0.3199346 ,  0.36232168,  0.40412723,\n        0.44354205,  0.50072584,  0.55694042,  0.60326898,  0.65864357,\n        0.70329216,  0.74929765,  0.78050643,  0.80997062,  0.84408705,\n        0.86237294,  0.89022177,  0.91238453,  0.92808584,  0.94514406,\n        0.96304226,  0.98339582,  1.00174632,  1.01938607,  1.03721966,\n        1.05001332,  1.05983472,  1.06222545,  1.05873627,  1.05130561])"
     },
     "execution_count": 18,
     "metadata": {},
     "output_type": "execute_result"
    }
   ],
   "source": [
    "X_scaled[:,0]\r\n",
    "df_sc=scaler.fit_transform(df)\r\n",
    "df_sc[:,5]"
   ]
  },
  {
   "cell_type": "code",
   "execution_count": 19,
   "metadata": {},
   "outputs": [
    {
     "data": {
      "text/html": "<style>#sk-container-id-1 {color: black;background-color: white;}#sk-container-id-1 pre{padding: 0;}#sk-container-id-1 div.sk-toggleable {background-color: white;}#sk-container-id-1 label.sk-toggleable__label {cursor: pointer;display: block;width: 100%;margin-bottom: 0;padding: 0.3em;box-sizing: border-box;text-align: center;}#sk-container-id-1 label.sk-toggleable__label-arrow:before {content: \"▸\";float: left;margin-right: 0.25em;color: #696969;}#sk-container-id-1 label.sk-toggleable__label-arrow:hover:before {color: black;}#sk-container-id-1 div.sk-estimator:hover label.sk-toggleable__label-arrow:before {color: black;}#sk-container-id-1 div.sk-toggleable__content {max-height: 0;max-width: 0;overflow: hidden;text-align: left;background-color: #f0f8ff;}#sk-container-id-1 div.sk-toggleable__content pre {margin: 0.2em;color: black;border-radius: 0.25em;background-color: #f0f8ff;}#sk-container-id-1 input.sk-toggleable__control:checked~div.sk-toggleable__content {max-height: 200px;max-width: 100%;overflow: auto;}#sk-container-id-1 input.sk-toggleable__control:checked~label.sk-toggleable__label-arrow:before {content: \"▾\";}#sk-container-id-1 div.sk-estimator input.sk-toggleable__control:checked~label.sk-toggleable__label {background-color: #d4ebff;}#sk-container-id-1 div.sk-label input.sk-toggleable__control:checked~label.sk-toggleable__label {background-color: #d4ebff;}#sk-container-id-1 input.sk-hidden--visually {border: 0;clip: rect(1px 1px 1px 1px);clip: rect(1px, 1px, 1px, 1px);height: 1px;margin: -1px;overflow: hidden;padding: 0;position: absolute;width: 1px;}#sk-container-id-1 div.sk-estimator {font-family: monospace;background-color: #f0f8ff;border: 1px dotted black;border-radius: 0.25em;box-sizing: border-box;margin-bottom: 0.5em;}#sk-container-id-1 div.sk-estimator:hover {background-color: #d4ebff;}#sk-container-id-1 div.sk-parallel-item::after {content: \"\";width: 100%;border-bottom: 1px solid gray;flex-grow: 1;}#sk-container-id-1 div.sk-label:hover label.sk-toggleable__label {background-color: #d4ebff;}#sk-container-id-1 div.sk-serial::before {content: \"\";position: absolute;border-left: 1px solid gray;box-sizing: border-box;top: 0;bottom: 0;left: 50%;z-index: 0;}#sk-container-id-1 div.sk-serial {display: flex;flex-direction: column;align-items: center;background-color: white;padding-right: 0.2em;padding-left: 0.2em;position: relative;}#sk-container-id-1 div.sk-item {position: relative;z-index: 1;}#sk-container-id-1 div.sk-parallel {display: flex;align-items: stretch;justify-content: center;background-color: white;position: relative;}#sk-container-id-1 div.sk-item::before, #sk-container-id-1 div.sk-parallel-item::before {content: \"\";position: absolute;border-left: 1px solid gray;box-sizing: border-box;top: 0;bottom: 0;left: 50%;z-index: -1;}#sk-container-id-1 div.sk-parallel-item {display: flex;flex-direction: column;z-index: 1;position: relative;background-color: white;}#sk-container-id-1 div.sk-parallel-item:first-child::after {align-self: flex-end;width: 50%;}#sk-container-id-1 div.sk-parallel-item:last-child::after {align-self: flex-start;width: 50%;}#sk-container-id-1 div.sk-parallel-item:only-child::after {width: 0;}#sk-container-id-1 div.sk-dashed-wrapped {border: 1px dashed gray;margin: 0 0.4em 0.5em 0.4em;box-sizing: border-box;padding-bottom: 0.4em;background-color: white;}#sk-container-id-1 div.sk-label label {font-family: monospace;font-weight: bold;display: inline-block;line-height: 1.2em;}#sk-container-id-1 div.sk-label-container {text-align: center;}#sk-container-id-1 div.sk-container {/* jupyter's `normalize.less` sets `[hidden] { display: none; }` but bootstrap.min.css set `[hidden] { display: none !important; }` so we also need the `!important` here to be able to override the default hidden behavior on the sphinx rendered scikit-learn.org. See: https://github.com/scikit-learn/scikit-learn/issues/21755 */display: inline-block !important;position: relative;}#sk-container-id-1 div.sk-text-repr-fallback {display: none;}</style><div id=\"sk-container-id-1\" class=\"sk-top-container\"><div class=\"sk-text-repr-fallback\"><pre>SVR(kernel=&#x27;linear&#x27;)</pre><b>In a Jupyter environment, please rerun this cell to show the HTML representation or trust the notebook. <br />On GitHub, the HTML representation is unable to render, please try loading this page with nbviewer.org.</b></div><div class=\"sk-container\" hidden><div class=\"sk-item\"><div class=\"sk-estimator sk-toggleable\"><input class=\"sk-toggleable__control sk-hidden--visually\" id=\"sk-estimator-id-1\" type=\"checkbox\" checked><label for=\"sk-estimator-id-1\" class=\"sk-toggleable__label sk-toggleable__label-arrow\">SVR</label><div class=\"sk-toggleable__content\"><pre>SVR(kernel=&#x27;linear&#x27;)</pre></div></div></div></div></div>",
      "text/plain": "SVR(kernel='linear')"
     },
     "execution_count": 19,
     "metadata": {},
     "output_type": "execute_result"
    }
   ],
   "source": [
    "# 初始化SVM回归模型  \n",
    "svr = svm.SVR(kernel='linear') # 这里使用了线性核函数  \n",
    "\n",
    "# 训练模型  \n",
    "svr.fit(X_train, y_train)  \n",
    "\n"
   ]
  },
  {
   "cell_type": "code",
   "execution_count": 20,
   "metadata": {},
   "outputs": [
    {
     "name": "stdout",
     "output_type": "stream",
     "text": [
      "Mean Squared Error: 0.5333333177411517\n"
     ]
    },
    {
     "data": {
      "text/plain": "array([4.62017402, 4.45015723, 4.56414125, 4.42103226, 4.59397439,\n       4.21120276, 5.09116803, 4.44190945, 2.65587285])"
     },
     "execution_count": 20,
     "metadata": {},
     "output_type": "execute_result"
    }
   ],
   "source": [
    "# 对测试集进行预测  \r\n",
    "y_pred = svr.predict(X_test)  \r\n",
    "\r\n",
    "# 计算均方误差（MSE）  \r\n",
    "mse = mean_squared_error(y_test, y_pred)  \r\n",
    "print('Mean Squared Error:', mse)  \r\n",
    "y_pred"
   ]
  },
  {
   "cell_type": "code",
   "execution_count": 21,
   "metadata": {},
   "outputs": [
    {
     "data": {
      "text/plain": "(array([[-0.49129428,  2.47750119, -0.95101508, -0.53472542, -0.05419678,\n         -0.95450943,  0.20455729, -0.12500269, -0.27580167]]),\n Index(['年份', '出生人口(万)', '总人口(万人)', '中国人均GPA(美元计)', '中国性别比例(按照女生=100)',\n        '中国就业人口(万人)', '城镇人口(城镇+乡村=100)', '乡村人口', '美元兑换人民币汇率'],\n       dtype='object'))"
     },
     "execution_count": 21,
     "metadata": {},
     "output_type": "execute_result"
    }
   ],
   "source": [
    "wight=svr.coef_\r\n",
    "name=X.columns\r\n",
    "wight,name"
   ]
  },
  {
   "cell_type": "code",
   "execution_count": 22,
   "metadata": {},
   "outputs": [
    {
     "ename": "ImportError",
     "evalue": "cannot import name 'Bar' from 'pyecharts.charts' (D:\\Users\\86130\\anaconda3\\lib\\site-packages\\pyecharts\\charts\\__init__.py)",
     "output_type": "error",
     "traceback": [
      "\u001b[1;31m---------------------------------------------------------------------------\u001b[0m",
      "\u001b[1;31mImportError\u001b[0m                               Traceback (most recent call last)",
      "Input \u001b[1;32mIn [22]\u001b[0m, in \u001b[0;36m<cell line: 1>\u001b[1;34m()\u001b[0m\n\u001b[1;32m----> 1\u001b[0m \u001b[38;5;28;01mfrom\u001b[39;00m \u001b[38;5;21;01mpyecharts\u001b[39;00m\u001b[38;5;21;01m.\u001b[39;00m\u001b[38;5;21;01mcharts\u001b[39;00m \u001b[38;5;28;01mimport\u001b[39;00m Bar\n\u001b[0;32m      2\u001b[0m \u001b[38;5;28;01mfrom\u001b[39;00m \u001b[38;5;21;01mpyecharts\u001b[39;00m \u001b[38;5;28;01mimport\u001b[39;00m options \u001b[38;5;28;01mas\u001b[39;00m opts\n\u001b[0;32m      3\u001b[0m wight2\u001b[38;5;241m=\u001b[39m[\u001b[38;5;28mround\u001b[39m(i,\u001b[38;5;241m2\u001b[39m) \u001b[38;5;28;01mfor\u001b[39;00m i \u001b[38;5;129;01min\u001b[39;00m wight[\u001b[38;5;241m0\u001b[39m]]\n",
      "\u001b[1;31mImportError\u001b[0m: cannot import name 'Bar' from 'pyecharts.charts' (D:\\Users\\86130\\anaconda3\\lib\\site-packages\\pyecharts\\charts\\__init__.py)"
     ]
    }
   ],
   "source": [
    "'''\r\n",
    "from pyecharts.charts import Bar\r\n",
    "from pyecharts import options as opts\r\n",
    "wight2=[round(i,2) for i in wight[0]]\r\n",
    "bar = Bar()\r\n",
    "bar.add_xaxis(list(name))\r\n",
    "bar.add_yaxis(\"权重\",wight2)\r\n",
    "bar.set_global_opts(title_opts=opts.TitleOpts(title=\"权重图\"))\r\n",
    "#bar.render()\r\n",
    "bar.render(\"权重图.html\")'''"
   ]
  },
  {
   "cell_type": "code",
   "execution_count": null,
   "metadata": {},
   "outputs": [
    {
     "data": {
      "text/plain": "'d:\\\\Users\\\\86130\\\\Desktop\\\\千峰py实习\\\\py_obj\\\\预测图.html'"
     },
     "execution_count": 9,
     "metadata": {},
     "output_type": "execute_result"
    }
   ],
   "source": [
    "'''bar = Bar()\r\n",
    "y_pred2=[round(i,2) for i in y_pred]\r\n",
    "bar.add_xaxis([2011,2012,2013,2014,2015,2016,2017,2018,2019])\r\n",
    "bar.add_yaxis(\"预测增长率\", list(y_pred2))\r\n",
    "bar.add_yaxis(\"真实测增长率\", list(y_test))\r\n",
    "bar.set_global_opts(title_opts=opts.TitleOpts(title=\"增长率预测图\"))\r\n",
    "#bar.render()\r\n",
    "bar.render(\"预测图.html\")'''\r\n"
   ]
  },
  {
   "cell_type": "code",
   "execution_count": null,
   "metadata": {},
   "outputs": [
    {
     "data": {
      "text/plain": "array([4.79, 4.95, 4.92, 5.21, 4.96, 5.86, 5.32, 3.81, 3.34])"
     },
     "execution_count": 13,
     "metadata": {},
     "output_type": "execute_result"
    }
   ],
   "source": [
    "y_test"
   ]
  },
  {
   "cell_type": "code",
   "execution_count": null,
   "metadata": {},
   "outputs": [],
   "source": []
  },
  {
   "cell_type": "code",
   "execution_count": null,
   "metadata": {},
   "outputs": [],
   "source": []
  },
  {
   "cell_type": "code",
   "execution_count": null,
   "metadata": {},
   "outputs": [],
   "source": []
  }
 ],
 "metadata": {
  "kernelspec": {
   "display_name": "Python 3.8.5 64-bit (conda)",
   "name": "python385jvsc74a57bd0b1f8e0fd2a47b0364df33afc51b941c7b7d2830b74b354dacf07556f324ae211"
  },
  "language_info": {
   "codemirror_mode": {
    "name": "ipython",
    "version": 3
   },
   "file_extension": ".py",
   "mimetype": "text/x-python",
   "name": "python",
   "nbconvert_exporter": "python",
   "pygments_lexer": "ipython3",
   "version": "3.8.5"
  }
 },
 "nbformat": 4,
 "nbformat_minor": 5
}